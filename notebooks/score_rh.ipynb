{
 "cells": [
  {
   "cell_type": "code",
   "execution_count": null,
   "metadata": {},
   "outputs": [],
   "source": [
    "import sqlite3\n",
    "import pandas as pd\n",
    "import logging\n",
    "from contextlib import contextmanager\n",
    "from dataclasses import dataclasses \n",
    "\n",
    "\n",
    "logging.basicConfig(\n",
    "    level=logging.INFO,\n",
    "    format='%(asctime)s - %(levelname)s - %(message)s',\n",
    "    datefmt='%Y-%m-%d %H:%M:%S', \n",
    "    handlers=[\n",
    "        logging.FileHandler(\"score_rh.log\"),  # Salva logs em um arquivo\n",
    "        logging.StreamHandler()  # Exibe logs no console\n",
    "    ]\n",
    ")\n",
    "\n",
    "DB_PATH = \"/app/data/teste___desafio_técnico_-_analista_de_dados_pleno_anexo_db.db\"\n",
    "SQL_SCRIPT_PATH = \"/app/scripts/canditados_pre_selecionados.sql\"\n",
    "OUTPUT_CSV = \"/app/output/candidatos_pre_selecionados.csv\""
   ]
  },
  {
   "cell_type": "markdown",
   "metadata": {},
   "source": [
    "# Conexao DB"
   ]
  },
  {
   "cell_type": "code",
   "execution_count": 19,
   "metadata": {},
   "outputs": [],
   "source": [
    "@contextmanager\n",
    "def conectar_banco():\n",
    "    \"\"\"Gerenciador de contexto para conexão com o banco de dados.\"\"\"\n",
    "    conn = None\n",
    "    try:\n",
    "        conn = sqlite3.connect(DB_PATH)\n",
    "        yield conn  # Retorna a conexão para ser usada no bloco `with`\n",
    "    except Exception as e:\n",
    "        logging.error(f\"Erro ao conectar ao banco de dados: {e}\")\n",
    "        raise\n",
    "    finally:\n",
    "        if conn:\n",
    "            conn.close()  # Fecha a conexão após o uso"
   ]
  },
  {
   "cell_type": "markdown",
   "metadata": {},
   "source": [
    "# DATA PREP"
   ]
  },
  {
   "cell_type": "code",
   "execution_count": null,
   "metadata": {},
   "outputs": [],
   "source": [
    "def listar_tabelas():\n",
    "    \"\"\"Lista todas as tabelas do banco SQLite.\"\"\"\n",
    "    tabelas = []\n",
    "    try:\n",
    "        with conectar_banco() as conn:\n",
    "            cursor = conn.cursor()\n",
    "            cursor.execute(\"SELECT name FROM sqlite_master WHERE type='table';\")\n",
    "            tabelas = cursor.fetchall()\n",
    "        return [t[0] for t in tabelas]\n",
    "    except Exception as e:\n",
    "        logging.error(f\"Erro ao listar tabelas: {e}\")\n",
    "        return []\n",
    "\n",
    "def visualizar_tabela(nome_tabela, haslimit=True, limite=5):\n",
    "    try:\n",
    "        with conectar_banco() as conn:\n",
    "            if haslimit:\n",
    "                query = f\"SELECT * FROM {nome_tabela} LIMIT {limite};\"\n",
    "            else:\n",
    "                query = f\"SELECT * FROM {nome_tabela};\"\n",
    "            df = pd.read_sql_query(query, conn)\n",
    "        return df\n",
    "    except Exception as e:\n",
    "        logging.error(f\"Erro ao visualizar tabela {nome_tabela}: {e}\")\n",
    "        return pd.DataFrame()\n",
    "\n",
    "def verificar_nulos():\n",
    "    \"\"\"Identifica colunas com valores nulos em todas as tabelas.\"\"\"\n",
    "    tabelas = listar_tabelas()\n",
    "    for tabela in tabelas:\n",
    "        df = visualizar_tabela(tabela, haslimit=False)\n",
    "        \n",
    "        null_counts = df.isnull().sum()\n",
    "        # Filtra apenas as colunas com valores nulos\n",
    "        colunas_com_nulos = null_counts[null_counts > 0]\n",
    "        \n",
    "        if not colunas_com_nulos.empty:\n",
    "            logging.warning(f\"Na tabela {tabela}, as seguintes colunas têm valores nulos:\")\n",
    "            for coluna, quantidade in colunas_com_nulos.items():\n",
    "                logging.warning(f\"  - {coluna}: {quantidade} valores nulos\")\n",
    "        else:\n",
    "            logging.info(f\"Na tabela {tabela}, não há valores nulos.\")"
   ]
  },
  {
   "cell_type": "code",
   "execution_count": 18,
   "metadata": {},
   "outputs": [
    {
     "name": "stderr",
     "output_type": "stream",
     "text": [
      "2025-02-12 18:29:35 - INFO - Na tabela competencias, não há valores nulos.\n",
      "2025-02-12 18:29:35 - INFO - Na tabela vagas, não há valores nulos.\n",
      "2025-02-12 18:29:35 - INFO - Na tabela candidatos, não há valores nulos.\n",
      "2025-02-12 18:29:35 - INFO - Na tabela vagacompetencia, não há valores nulos.\n",
      "2025-02-12 18:29:35 - INFO - Na tabela candidato_vaga, não há valores nulos.\n",
      "2025-02-12 18:29:35 - INFO - Na tabela experiencias, não há valores nulos.\n",
      "2025-02-12 18:29:35 - INFO - Na tabela competencia_experiencia, não há valores nulos.\n"
     ]
    }
   ],
   "source": [
    "verificar_nulos()"
   ]
  },
  {
   "cell_type": "code",
   "execution_count": 21,
   "metadata": {},
   "outputs": [
    {
     "name": "stderr",
     "output_type": "stream",
     "text": [
      "2025-02-12 18:35:57 - INFO - Arquivo salvo com sucesso em: /app/output/candidatos_pre_selecionados.csv\n"
     ]
    }
   ],
   "source": [
    "def executar_sqlite_query():\n",
    "    try:\n",
    "        with conectar_banco() as conn:\n",
    "            cursor = conn.cursor()\n",
    "            with open(SQL_SCRIPT_PATH, \"r\", encoding=\"utf-8\") as f:\n",
    "                sql_query = f.read()\n",
    "\n",
    "            cursor.execute(\"PRAGMA foreign_keys = ON;\") \n",
    "            df = pd.read_sql_query(sql_query, conn)\n",
    "\n",
    "        df.to_csv(OUTPUT_CSV, index=False, encoding=\"utf-8\")\n",
    "        logging.info(f\"Arquivo salvo com sucesso em: {OUTPUT_CSV}\")\n",
    "\n",
    "    except Exception as e:\n",
    "        logging.error(f\"Erro ao executar a consulta: {e}\")\n",
    "\n",
    "executar_sqlite_query()"
   ]
  }
 ],
 "metadata": {
  "kernelspec": {
   "display_name": "Python 3 (ipykernel)",
   "language": "python",
   "name": "python3"
  },
  "language_info": {
   "codemirror_mode": {
    "name": "ipython",
    "version": 3
   },
   "file_extension": ".py",
   "mimetype": "text/x-python",
   "name": "python",
   "nbconvert_exporter": "python",
   "pygments_lexer": "ipython3",
   "version": "3.9.21"
  }
 },
 "nbformat": 4,
 "nbformat_minor": 2
}
